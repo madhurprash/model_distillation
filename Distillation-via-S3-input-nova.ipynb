{
 "cells": [
  {
   "cell_type": "markdown",
   "id": "cbf2edd1",
   "metadata": {},
   "source": [
    "# Amazon Bedrock Model Distillation Guide - JSONL training data available in Amazon S3 bucket\n",
    "\n",
    "## Introduction\n",
    "\n",
    "Model distillation in Amazon Bedrock allows you to create smaller, more efficient models while maintaining performance by learning from larger, more capable models. This guide demonstrates how to use the Amazon Bedrock APIs to implement model distillation using:\n",
    "**JSONL training data available in Amazon S3 bucket**.\n",
    "\n",
    "Through this API usage notebook, we'll explore the complete distillation workflow, from configuring teacher and student models to deploying the final distilled model. You'll learn how to:\n",
    "\n",
    "- Set up and configure distillation jobs\n",
    "- Prepare and format training data for distillation\n",
    "- Upload and use training data from S3\n",
    "- Manage model provisioning and deployment\n",
    "- Run inference with distilled models\n",
    "\n",
    "The guide covers essential API operations including:\n",
    "- Creating and configuring distillation jobs\n",
    "- Managing training data sources in S3\n",
    "- Handling model deployments\n",
    "- Implementing production best practices using boto3 and the Bedrock SDK\n",
    "\n",
    "While model distillation offers benefits like improved efficiency and reduced costs, this guide focuses on the practical implementation details and API usage patterns needed to successfully execute distillation workflows in Amazon Bedrock.\n",
    "\n",
    "## Best Practices and Considerations\n",
    "\n",
    "When using model distillation:\n",
    "1. Ensure your training data is diverse and representative of your use case\n",
    "2. Monitor distillation metrics in the S3 output location\n",
    "3. Evaluate the distilled model's performance against your requirements\n",
    "4. Consider cost-performance tradeoffs when selecting model units for deployment\n",
    "\n",
    "The distilled model should provide faster responses and lower costs while maintaining acceptable performance for your specific use case.\n",
    "\n",
    "### Setup and Prerequisites\n",
    "\n",
    "Before we begin, make sure you have the following:\n",
    "\n",
    "- An active AWS account with appropriate permissions\n",
    "- Amazon Bedrock access enabled in your preferred region\n",
    "- An S3 bucket for storing training data and output\n",
    "- Training data in JSONL format\n",
    "- Sufficient service quota to use Provisioned Throughput in Bedrock\n",
    "- An IAM role with the following permissions:\n",
    "\n",
    "IAM Policy:\n",
    "```json\n",
    "{\n",
    "    \"Version\": \"2012-10-17\",\n",
    "    \"Statement\": [\n",
    "        {\n",
    "            \"Effect\": \"Allow\",\n",
    "            \"Action\": [\n",
    "                \"s3:GetObject\",\n",
    "                \"s3:PutObject\",\n",
    "                \"s3:ListBucket\"\n",
    "            ],\n",
    "            \"Resource\": [\n",
    "                \"arn:aws:s3:::YOUR_DISTILLATION_OUTPUT_BUCKET\",\n",
    "                \"arn:aws:s3:::YOUR_DISTILLATION_OUTPUT_BUCKET/*\",\n",
    "            ]\n",
    "        },\n",
    "        {\n",
    "            \"Effect\": \"Allow\",\n",
    "            \"Action\": [\n",
    "                \"bedrock:CreateModelCustomizationJob\",\n",
    "                \"bedrock:GetModelCustomizationJob\",\n",
    "                \"bedrock:ListModelCustomizationJobs\",\n",
    "                \"bedrock:StopModelCustomizationJob\"\n",
    "            ],\n",
    "            \"Resource\": \"arn:aws:bedrock:YOUR_REGION:YOUR_ACCOUNT_ID:model-customization-job/*\"\n",
    "        }\n",
    "    ]\n",
    "}\n",
    "```\n",
    "\n",
    "Trust Relationship:\n",
    "```json\n",
    "{\n",
    "    \"Version\": \"2012-10-17\",\n",
    "    \"Statement\": [\n",
    "        {\n",
    "            \"Effect\": \"Allow\",\n",
    "            \"Principal\": {\n",
    "                \"Service\": [\n",
    "                    \"bedrock.amazonaws.com\"\n",
    "                ]\n",
    "            },\n",
    "            \"Action\": \"sts:AssumeRole\",\n",
    "            \"Condition\": {\n",
    "                \"StringEquals\": {\n",
    "                    \"aws:SourceAccount\": \"YOUR_ACCOUNT_ID\"\n",
    "                },\n",
    "                \"ArnLike\": {\n",
    "                    \"aws:SourceArn\": \"arn:aws:bedrock:YOUR_REGION:YOUR_ACCOUNT_ID:model-customization-job/*\"\n",
    "                }\n",
    "            }\n",
    "        }\n",
    "    ]\n",
    "}\n",
    "```\n",
    "\n",
    "#### Dataset:\n",
    "As an example, in this notebook we will be using the `Uber10K dataset`.\n",
    "\n",
    "First, let's set up our environment and import required libraries."
   ]
  },
  {
   "cell_type": "code",
   "execution_count": 1,
   "id": "9296e2c3",
   "metadata": {
    "tags": []
   },
   "outputs": [
    {
     "name": "stdout",
     "output_type": "stream",
     "text": [
      "Note: you may need to restart the kernel to use updated packages.\n",
      "Note: you may need to restart the kernel to use updated packages.\n"
     ]
    }
   ],
   "source": [
    "# upgrade boto3 \n",
    "%pip install --upgrade pip --quiet\n",
    "%pip install boto3 --upgrade --quiet"
   ]
  },
  {
   "cell_type": "code",
   "execution_count": 2,
   "id": "063248b2",
   "metadata": {
    "tags": []
   },
   "outputs": [
    {
     "data": {
      "text/html": [
       "<script>Jupyter.notebook.kernel.restart()</script>"
      ],
      "text/plain": [
       "<IPython.core.display.HTML object>"
      ]
     },
     "execution_count": 2,
     "metadata": {},
     "output_type": "execute_result"
    }
   ],
   "source": [
    "# restart kernel\n",
    "from IPython.core.display import HTML\n",
    "HTML(\"<script>Jupyter.notebook.kernel.restart()</script>\")"
   ]
  },
  {
   "cell_type": "markdown",
   "id": "33b031e3",
   "metadata": {},
   "source": [
    "# Model Selection and Configuration\n",
    "\n",
    "When selecting models for distillation, consider the following factors:\n",
    "\n",
    "1. Performance targets\n",
    "2. Latency requirements\n",
    "3. Total Cost of Ownership (TCO)\n",
    "\n",
    "Let's set up our configuration parameters for the distillation process.\n",
    "\n",
    "(We're using Amazon Nova/Micro as the example teacher/student models in this code sample. Please change it based on your use case, and run code sample in **supporting region**)"
   ]
  },
  {
   "cell_type": "code",
   "execution_count": 3,
   "id": "cc786809",
   "metadata": {
    "tags": []
   },
   "outputs": [],
   "source": [
    "import json\n",
    "import os\n",
    "import boto3\n",
    "from datetime import datetime\n",
    "from botocore.exceptions import ClientError\n",
    "from utils import create_s3_bucket, upload_training_data_to_s3, delete_s3_bucket_and_contents, \\\n",
    "create_model_distillation_role_and_permissions, delete_role_and_attached_policies, delete_distillation_buckets\n",
    "\n",
    "# Create Bedrock client\n",
    "bedrock_client = boto3.client(service_name=\"bedrock\")\n",
    "\n",
    "# Create runtime client for inference\n",
    "bedrock_runtime = boto3.client(service_name='bedrock-runtime')\n",
    "\n",
    "# Region and accountID\n",
    "session = boto3.session.Session()\n",
    "region = session.region_name\n",
    "sts_client = session.client('sts')\n",
    "account_id = sts_client.get_caller_identity()['Account']\n",
    "\n",
    "# define bucket you want to create and upload the dataset to:\n",
    "bucket_name='YOUR-S3-BUCKET' # Replace by your bucket name\n",
    "data_prefix = 'nova-model-distillation' # Replace by your defined prefix\n",
    "\n",
    "# configure teacher nd student model\n",
    "teacher_model = \"amazon.nova-pro-v1:0\"\n",
    "student_model_micro = \"amazon.nova-micro-v1:0:128k\""
   ]
  },
  {
   "cell_type": "markdown",
   "id": "874e9a9c",
   "metadata": {},
   "source": [
    "# Prepare Dataset for Model Distillation\n",
    "\n",
    "Before we start the distillation process, we need to prepare our dataset. We'll create a function to convert our input data into the format required by Amazon Bedrock.\n",
    "\n",
    "#### Model Distillation Input Format\n",
    "\n",
    "The training data must follow the Bedrock conversation schema in JSONL format. Each line should be a valid JSON object with this structure:\n",
    "\n",
    "```json\n",
    "{\n",
    "    \"schemaVersion\": \"bedrock-conversation-2024\",\n",
    "    \"system\": [\n",
    "        {\n",
    "            \"text\": <Your-System-Prompt>\n",
    "        }\n",
    "    ],\n",
    "    \"messages\": [\n",
    "        {\n",
    "            \"role\": \"user\",\n",
    "            \"content\": [\n",
    "                {\n",
    "                    \"text\": <Your-Prompt-And-OR-Context>\n",
    "                }\n",
    "            ]\n",
    "        },\n",
    "        {\n",
    "            \"role\": \"assistant\",\n",
    "            \"content\": [\n",
    "                {\n",
    "                    \"text\": <Your-Ground-Truth-Response>\n",
    "                }\n",
    "            ]\n",
    "        }\n",
    "    ]\n",
    "}\n",
    "```\n",
    "\n",
    "Key formatting requirements:\n",
    "- Each line must be a complete JSON object\n",
    "- The schemaVersion field must be specified as `bedrock-conversation-2024`\n",
    "- System instructions should be included in the system array\n",
    "- Messages (including any context) must include both user and assistant roles in the correct order\n",
    "- All text content must be wrapped in the appropriate content structure"
   ]
  },
  {
   "cell_type": "code",
   "execution_count": null,
   "id": "3b790887-0573-4742-8160-c83ea13a53cf",
   "metadata": {
    "tags": []
   },
   "outputs": [],
   "source": [
    "def prepare_training_dataset(input_file, output_file, system_message):\n",
    "    try:\n",
    "        # Create the base conversation template\n",
    "        conversation_template = {\n",
    "            \"schemaVersion\": \"bedrock-conversation-2024\",\n",
    "            \"system\": [{\"text\": system_message}],\n",
    "            \"messages\": []\n",
    "        }\n",
    "\n",
    "        # Process input file and write output\n",
    "        with open(input_file, 'r') as infile, open(output_file, 'w') as outfile:\n",
    "            # Read input file line by line\n",
    "            for line in infile:\n",
    "                if line.strip():  # Skip empty lines\n",
    "                    # Parse the input JSON line\n",
    "                    input_data = json.loads(line)\n",
    "                    \n",
    "                    # Create a new conversation for each line\n",
    "                    conversation = conversation_template.copy()\n",
    "                    \n",
    "                    # Add user message\n",
    "                    user_message = {\n",
    "                        \"role\": \"user\",\n",
    "                        \"content\": [{\"text\": input_data[\"prompt\"]}]\n",
    "                    }\n",
    "                    # Add assistant message\n",
    "                    assistant_message = {\n",
    "                        \"role\": \"assistant\",\n",
    "                        \"content\": [{\"text\": input_data[\"completion\"]}]\n",
    "                    }\n",
    "                    # Add messages to conversation\n",
    "                    conversation[\"messages\"] = [user_message, assistant_message]\n",
    "                    # Write the conversation to output file\n",
    "                    outfile.write(json.dumps(conversation) + '\\n')\n",
    "        print(f\"Successfully converted {input_file} to Bedrock format and saved to {output_file}\")\n",
    "        return True\n",
    "    except Exception as e:\n",
    "        print(f\"Error processing file: {str(e)}\")\n",
    "        return False"
   ]
  },
  {
   "cell_type": "markdown",
   "id": "ed7cce93",
   "metadata": {},
   "source": [
    "### Now that we have our data preparation function, let's use it to create our distillation dataset."
   ]
  },
  {
   "cell_type": "code",
   "execution_count": 5,
   "id": "11818e35",
   "metadata": {
    "tags": []
   },
   "outputs": [
    {
     "name": "stdout",
     "output_type": "stream",
     "text": [
      "Successfully converted SampleData/uber10K.jsonl to Bedrock format and saved to model_distillation_dataset.jsonl\n"
     ]
    },
    {
     "data": {
      "text/plain": [
       "True"
      ]
     },
     "execution_count": 5,
     "metadata": {},
     "output_type": "execute_result"
    }
   ],
   "source": [
    "system_message = \"\"\"You are a specialized financial analyst assistant trained to analyze SEC filings, financial documents, and regulatory submissions. Your role is to:\n",
    "- Extract and interpret key information from 10-K, 10-Q, and other SEC filings\n",
    "- Provide accurate, factual responses based solely on the provided document context\n",
    "- Focus on specific financial, legal, and corporate governance details\n",
    "- Present information clearly and concisely without speculation\n",
    "- Maintain accuracy in reporting numbers, dates, and regulatory details\n",
    "When responding, only use information explicitly stated in the provided context.\"\"\"\n",
    "\n",
    "input_data_file = 'SampleData/uber10K.jsonl'\n",
    "output_data_file = 'model_distillation_dataset.jsonl'\n",
    "\n",
    "prepare_training_dataset(\n",
    "    input_file=input_data_file,\n",
    "    output_file=output_data_file,\n",
    "    system_message=system_message\n",
    ")"
   ]
  },
  {
   "cell_type": "code",
   "execution_count": 6,
   "id": "10bea0b6",
   "metadata": {
    "tags": []
   },
   "outputs": [
    {
     "name": "stdout",
     "output_type": "stream",
     "text": [
      "Creating IAM role...\n",
      "Creating IAM policy...\n",
      "Attaching policy to role...\n",
      "Successfully created role and policy!\n",
      "Successfully created bucket 'sagemaker-us-east-1-218208277580' in region 'us-east-1'\n",
      "Bucket ARN: arn:aws:s3:::sagemaker-us-east-1-218208277580\n",
      "Uploading model_distillation_dataset.jsonl to bucket sagemaker-us-east-1-218208277580 with prefix nova-model-distillation...\n",
      "Successfully uploaded model_distillation_dataset.jsonl to S3 bucket!\n",
      "File S3 URI: s3://sagemaker-us-east-1-218208277580/nova-model-distillation/model_distillation_dataset.jsonl\n"
     ]
    }
   ],
   "source": [
    "# Generate unique names for the job and model\n",
    "job_name = f\"distillation-job-{datetime.now().strftime('%Y-%m-%d-%H-%M-%S')}\"\n",
    "model_name = f\"distilled-model-{datetime.now().strftime('%Y-%m-%d-%H-%M-%S')}\"\n",
    "\n",
    "# Configure models and IAM role\n",
    "role_name, role_arn = create_model_distillation_role_and_permissions(bucket_name=bucket_name, account_id=account_id)\n",
    "\n",
    "# creating training data bucket\n",
    "create_s3_bucket(bucket_name=bucket_name)\n",
    "\n",
    "# Specify S3 locations\n",
    "training_data = upload_training_data_to_s3(bucket_name, output_data_file, prefix=data_prefix)\n",
    "output_path = f\"s3://{bucket_name}/output/\"\n",
    "\n",
    "# Set maximum response length\n",
    "max_response_length = 1000"
   ]
  },
  {
   "cell_type": "markdown",
   "id": "cdd8eebe",
   "metadata": {},
   "source": [
    "# Starting the Distillation Job\n",
    "\n",
    "With our dataset prepared, we can now start the distillation job. We'll use the `create_model_customization_job` API to do this."
   ]
  },
  {
   "cell_type": "code",
   "execution_count": 7,
   "id": "73ea0394",
   "metadata": {
    "tags": []
   },
   "outputs": [],
   "source": [
    "response = bedrock_client.create_model_customization_job(\n",
    "    jobName=job_name,\n",
    "    customModelName=model_name,\n",
    "    roleArn=role_arn,\n",
    "    baseModelIdentifier=student_model_micro,\n",
    "    customizationType=\"DISTILLATION\",\n",
    "    trainingDataConfig={\n",
    "        \"s3Uri\": training_data\n",
    "    },\n",
    "    outputDataConfig={\n",
    "        \"s3Uri\": output_path\n",
    "    },\n",
    "    customizationConfig={\n",
    "        \"distillationConfig\": {\n",
    "            \"teacherModelConfig\": {\n",
    "                \"teacherModelIdentifier\": teacher_model,\n",
    "                \"maxResponseLengthForInference\": max_response_length \n",
    "            }\n",
    "        }\n",
    "    }\n",
    ")"
   ]
  },
  {
   "cell_type": "markdown",
   "id": "63b6d0c8",
   "metadata": {},
   "source": [
    "# Monitoring the Distillation Job\n",
    "\n",
    "After starting the distillation job, it's important to monitor its progress. We can use the `get_model_customization_job` API to check the status of our job."
   ]
  },
  {
   "cell_type": "code",
   "execution_count": 23,
   "id": "811dd77f",
   "metadata": {
    "tags": []
   },
   "outputs": [
    {
     "name": "stdout",
     "output_type": "stream",
     "text": [
      "Completed\n"
     ]
    }
   ],
   "source": [
    "# Record the distillation job arn\n",
    "job_arn = response['jobArn']\n",
    "\n",
    "# print job status\n",
    "job_status = bedrock_client.get_model_customization_job(jobIdentifier=job_arn)[\"status\"]\n",
    "print(job_status)"
   ]
  },
  {
   "cell_type": "markdown",
   "id": "a0da8a8e",
   "metadata": {},
   "source": [
    "# Deploying the Distilled Model\n",
    "\n",
    "Once the distillation job is complete, we can deploy our distilled model. This involves creating a Provisioned Throughput model instance."
   ]
  },
  {
   "cell_type": "code",
   "execution_count": 24,
   "id": "3a050d43",
   "metadata": {
    "collapsed": true,
    "jupyter": {
     "outputs_hidden": true
    },
    "tags": []
   },
   "outputs": [
    {
     "ename": "ServiceQuotaExceededException",
     "evalue": "An error occurred (ServiceQuotaExceededException) when calling the CreateProvisionedModelThroughput operation: Your account does not currently have any no commitment model units reserved for amazon.nova-micro-v1:0:128k. Please see https://support.console.aws.amazon.com/support/home?region=us-east-1#/case/create?issueType=service-limit-increase to request a service quota increase.",
     "output_type": "error",
     "traceback": [
      "\u001b[0;31m---------------------------------------------------------------------------\u001b[0m",
      "\u001b[0;31mServiceQuotaExceededException\u001b[0m             Traceback (most recent call last)",
      "Cell \u001b[0;32mIn[24], line 5\u001b[0m\n\u001b[1;32m      2\u001b[0m custom_model_id \u001b[38;5;241m=\u001b[39m bedrock_client\u001b[38;5;241m.\u001b[39mget_model_customization_job(jobIdentifier\u001b[38;5;241m=\u001b[39mjob_arn)[\u001b[38;5;124m'\u001b[39m\u001b[38;5;124moutputModelArn\u001b[39m\u001b[38;5;124m'\u001b[39m]\n\u001b[1;32m      3\u001b[0m distilled_model_name \u001b[38;5;241m=\u001b[39m \u001b[38;5;124mf\u001b[39m\u001b[38;5;124m\"\u001b[39m\u001b[38;5;124mdistilled-model-\u001b[39m\u001b[38;5;132;01m{\u001b[39;00mdatetime\u001b[38;5;241m.\u001b[39mnow()\u001b[38;5;241m.\u001b[39mstrftime(\u001b[38;5;124m'\u001b[39m\u001b[38;5;124m%\u001b[39m\u001b[38;5;124mY-\u001b[39m\u001b[38;5;124m%\u001b[39m\u001b[38;5;124mm-\u001b[39m\u001b[38;5;132;01m%d\u001b[39;00m\u001b[38;5;124m-\u001b[39m\u001b[38;5;124m%\u001b[39m\u001b[38;5;124mH-\u001b[39m\u001b[38;5;124m%\u001b[39m\u001b[38;5;124mM-\u001b[39m\u001b[38;5;124m%\u001b[39m\u001b[38;5;124mS\u001b[39m\u001b[38;5;124m'\u001b[39m)\u001b[38;5;132;01m}\u001b[39;00m\u001b[38;5;124m\"\u001b[39m\n\u001b[0;32m----> 5\u001b[0m provisioned_model_id \u001b[38;5;241m=\u001b[39m \u001b[43mbedrock_client\u001b[49m\u001b[38;5;241;43m.\u001b[39;49m\u001b[43mcreate_provisioned_model_throughput\u001b[49m\u001b[43m(\u001b[49m\n\u001b[1;32m      6\u001b[0m \u001b[43m    \u001b[49m\u001b[43mmodelUnits\u001b[49m\u001b[38;5;241;43m=\u001b[39;49m\u001b[38;5;241;43m1\u001b[39;49m\u001b[43m,\u001b[49m\n\u001b[1;32m      7\u001b[0m \u001b[43m    \u001b[49m\u001b[43mprovisionedModelName\u001b[49m\u001b[38;5;241;43m=\u001b[39;49m\u001b[43mdistilled_model_name\u001b[49m\u001b[43m,\u001b[49m\n\u001b[1;32m      8\u001b[0m \u001b[43m    \u001b[49m\u001b[43mmodelId\u001b[49m\u001b[38;5;241;43m=\u001b[39;49m\u001b[43mcustom_model_id\u001b[49m\u001b[43m \u001b[49m\n\u001b[1;32m      9\u001b[0m \u001b[43m)\u001b[49m[\u001b[38;5;124m'\u001b[39m\u001b[38;5;124mprovisionedModelArn\u001b[39m\u001b[38;5;124m'\u001b[39m]\n",
      "File \u001b[0;32m~/anaconda3/envs/python3/lib/python3.10/site-packages/botocore/client.py:569\u001b[0m, in \u001b[0;36mClientCreator._create_api_method.<locals>._api_call\u001b[0;34m(self, *args, **kwargs)\u001b[0m\n\u001b[1;32m    565\u001b[0m     \u001b[38;5;28;01mraise\u001b[39;00m \u001b[38;5;167;01mTypeError\u001b[39;00m(\n\u001b[1;32m    566\u001b[0m         \u001b[38;5;124mf\u001b[39m\u001b[38;5;124m\"\u001b[39m\u001b[38;5;132;01m{\u001b[39;00mpy_operation_name\u001b[38;5;132;01m}\u001b[39;00m\u001b[38;5;124m() only accepts keyword arguments.\u001b[39m\u001b[38;5;124m\"\u001b[39m\n\u001b[1;32m    567\u001b[0m     )\n\u001b[1;32m    568\u001b[0m \u001b[38;5;66;03m# The \"self\" in this scope is referring to the BaseClient.\u001b[39;00m\n\u001b[0;32m--> 569\u001b[0m \u001b[38;5;28;01mreturn\u001b[39;00m \u001b[38;5;28;43mself\u001b[39;49m\u001b[38;5;241;43m.\u001b[39;49m\u001b[43m_make_api_call\u001b[49m\u001b[43m(\u001b[49m\u001b[43moperation_name\u001b[49m\u001b[43m,\u001b[49m\u001b[43m \u001b[49m\u001b[43mkwargs\u001b[49m\u001b[43m)\u001b[49m\n",
      "File \u001b[0;32m~/anaconda3/envs/python3/lib/python3.10/site-packages/botocore/client.py:1023\u001b[0m, in \u001b[0;36mBaseClient._make_api_call\u001b[0;34m(self, operation_name, api_params)\u001b[0m\n\u001b[1;32m   1019\u001b[0m     error_code \u001b[38;5;241m=\u001b[39m error_info\u001b[38;5;241m.\u001b[39mget(\u001b[38;5;124m\"\u001b[39m\u001b[38;5;124mQueryErrorCode\u001b[39m\u001b[38;5;124m\"\u001b[39m) \u001b[38;5;129;01mor\u001b[39;00m error_info\u001b[38;5;241m.\u001b[39mget(\n\u001b[1;32m   1020\u001b[0m         \u001b[38;5;124m\"\u001b[39m\u001b[38;5;124mCode\u001b[39m\u001b[38;5;124m\"\u001b[39m\n\u001b[1;32m   1021\u001b[0m     )\n\u001b[1;32m   1022\u001b[0m     error_class \u001b[38;5;241m=\u001b[39m \u001b[38;5;28mself\u001b[39m\u001b[38;5;241m.\u001b[39mexceptions\u001b[38;5;241m.\u001b[39mfrom_code(error_code)\n\u001b[0;32m-> 1023\u001b[0m     \u001b[38;5;28;01mraise\u001b[39;00m error_class(parsed_response, operation_name)\n\u001b[1;32m   1024\u001b[0m \u001b[38;5;28;01melse\u001b[39;00m:\n\u001b[1;32m   1025\u001b[0m     \u001b[38;5;28;01mreturn\u001b[39;00m parsed_response\n",
      "\u001b[0;31mServiceQuotaExceededException\u001b[0m: An error occurred (ServiceQuotaExceededException) when calling the CreateProvisionedModelThroughput operation: Your account does not currently have any no commitment model units reserved for amazon.nova-micro-v1:0:128k. Please see https://support.console.aws.amazon.com/support/home?region=us-east-1#/case/create?issueType=service-limit-increase to request a service quota increase."
     ]
    }
   ],
   "source": [
    "# Deploy the distilled model\n",
    "custom_model_id = bedrock_client.get_model_customization_job(jobIdentifier=job_arn)['outputModelArn']\n",
    "distilled_model_name = f\"distilled-model-{datetime.now().strftime('%Y-%m-%d-%H-%M-%S')}\"\n",
    "\n",
    "provisioned_model_id = bedrock_client.create_provisioned_model_throughput(\n",
    "    modelUnits=1,\n",
    "    provisionedModelName=distilled_model_name,\n",
    "    modelId=custom_model_id \n",
    ")['provisionedModelArn']"
   ]
  },
  {
   "cell_type": "markdown",
   "id": "8c705bac",
   "metadata": {},
   "source": [
    "# Clean Up\n",
    "Let's delete the resources that were created in this notebook. `Uncomment` the code below to delete the resources."
   ]
  },
  {
   "cell_type": "code",
   "execution_count": 25,
   "id": "0879a0f3",
   "metadata": {
    "tags": []
   },
   "outputs": [],
   "source": [
    "# # delete bucket and dataset\n",
    "# delete_distillation_buckets(bucket_name)\n",
    "\n",
    "# delete role and its policy:\n",
    "# delete_role_and_attached_policies(role_name=role_name)\n",
    "\n",
    "# delete provisioned throughput:\n",
    "# response = bedrock_client.delete_provisioned_model_throughput(provisionedModelId=provisioned_model_id)"
   ]
  },
  {
   "cell_type": "markdown",
   "id": "5bb8a025",
   "metadata": {},
   "source": [
    "# Conclusion\n",
    "\n",
    "In this guide, we've walked through the entire process of model distillation using Amazon Bedrock. We covered:\n",
    "\n",
    "1. Setting up the environment\n",
    "2. Preparing the dataset\n",
    "3. Configuring and starting a distillation job\n",
    "4. Monitoring the job's progress\n",
    "5. Deploying the distilled model\n",
    "6. Cleaning up resources\n",
    "\n",
    "Model distillation is a powerful technique that can help you create more efficient models tailored to your specific use case. By following this guide, you should now be able to implement model distillation in your own projects using Amazon Bedrock.\n",
    "\n",
    "Remember to always consider your specific use case requirements when selecting models and configuring the distillation process. \n",
    "\n",
    "**Happy distilling!**"
   ]
  }
 ],
 "metadata": {
  "kernelspec": {
   "display_name": "conda_python3",
   "language": "python",
   "name": "conda_python3"
  },
  "language_info": {
   "codemirror_mode": {
    "name": "ipython",
    "version": 3
   },
   "file_extension": ".py",
   "mimetype": "text/x-python",
   "name": "python",
   "nbconvert_exporter": "python",
   "pygments_lexer": "ipython3",
   "version": "3.10.15"
  }
 },
 "nbformat": 4,
 "nbformat_minor": 5
}
